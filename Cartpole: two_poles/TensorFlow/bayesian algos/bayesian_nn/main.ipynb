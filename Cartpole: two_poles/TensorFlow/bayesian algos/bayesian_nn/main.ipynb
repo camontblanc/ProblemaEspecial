{
 "cells": [
  {
   "cell_type": "markdown",
   "metadata": {},
   "source": [
    "# Bayesian Actor-Critic algortihms (BAC)\n",
    "---\n",
    "In this notebook, we train a Bayesian Actor-Critic with DeepMind Control Suite's `Cartpole` domain in `balance` task.\n",
    "\n",
    "### 1. Import the Necessary Packages"
   ]
  },
  {
   "cell_type": "code",
   "execution_count": null,
   "metadata": {},
   "outputs": [],
   "source": [
    "import os\n",
    "\n",
    "from dm_control import suite\n",
    "\n",
    "from collections import deque\n",
    "from tqdm import trange\n",
    "from IPython.display import clear_output\n",
    "\n",
    "from datetime import datetime\n",
    "from packaging import version\n",
    "\n",
    "import numpy as np\n",
    "import tensorflow as tf\n",
    "from tensorflow import keras\n",
    "\n",
    "print(\"TensorFlow version: \", tf.__version__)\n",
    "assert version.parse(tf.__version__).release[0] >= 2, \\\n",
    "    \"This notebook requires TensorFlow 2.0 or above.\""
   ]
  },
  {
   "cell_type": "markdown",
   "metadata": {},
   "source": [
    "### 2. Instantiate the Environment and Agent"
   ]
  },
  {
   "cell_type": "code",
   "execution_count": null,
   "metadata": {},
   "outputs": [],
   "source": [
    "from bayesian_ddpg import Agent\n",
    "from cpprb import ReplayBuffer, PrioritizedReplayBuffer"
   ]
  },
  {
   "cell_type": "code",
   "execution_count": null,
   "metadata": {},
   "outputs": [],
   "source": [
    "BUFFER_SIZE = int(1e5)\n",
    "STATE_DIM = (5,)\n",
    "ACTION_DIM = 1\n",
    "BATCH_SIZE = 256\n",
    "\n",
    "env = suite.load(domain_name='cartpole', \n",
    "                 task_name='balance')\n",
    "\n",
    "agent = Agent(state_dim=STATE_DIM, \n",
    "              action_dim=ACTION_DIM, \n",
    "              dropout_on_v=0)\n",
    "\n",
    "print('Running on ', agent.device)\n",
    "\n",
    "rb = ReplayBuffer(BUFFER_SIZE, {\"obs\": {\"shape\": (STATE_DIM,)},\n",
    "                                \"act\": {\"shape\": ACTION_DIM},\n",
    "                                \"rew\": {},\n",
    "                                \"next_obs\": {\"shape\": (STATE_DIM,)},\n",
    "                                \"done\": {}})"
   ]
  },
  {
   "cell_type": "markdown",
   "metadata": {},
   "source": [
    "### 3. Train the Agent with DDPG"
   ]
  },
  {
   "cell_type": "code",
   "execution_count": null,
   "metadata": {},
   "outputs": [],
   "source": [
    "# Clear any logs from previous runs\n",
    "!rm -rf logs \n",
    "\n",
    "log_dir=\"logs/\"\n",
    "summary_writer = tf.summary.create_file_writer(\n",
    "  log_dir + \"scalar/\" + datetime.now().strftime(\"%Y%m%d-%H%M%S\"))\n",
    "\n",
    "# Checkpoint-saver\n",
    "checkpoint_dir = './training_checkpoints'\n",
    "checkpoint_prefix = os.path.join(checkpoint_dir, \"ckpt\")\n",
    "checkpoint = tf.train.Checkpoint(actor=agent.pi,\n",
    "                                 critic=agent.critic,\n",
    "                                 actor_optim=agent.pi_optim,\n",
    "                                 critic_optim=agent.critic_optim)\n",
    "\n",
    "%load_ext tensorboard\n",
    "%tensorboard --logdir {log_dir}"
   ]
  },
  {
   "cell_type": "code",
   "execution_count": null,
   "metadata": {},
   "outputs": [],
   "source": [
    "n_episodes=1000; max_t=1e3; save_every=2\n",
    "scores_deque = deque(maxlen=save_every)\n",
    "\n",
    "\n",
    "prevScore = 0\n",
    "for i_episode in trange(1, int(n_episodes)+1):\n",
    "    \n",
    "    time_step = env.reset()\n",
    "    state = np.concatenate( [ time_step.observation[key] \n",
    "                             for key in list( time_step.observation.keys() ) ] )\n",
    "    score = 0\n",
    "    \n",
    "    for t in range(int(max_t)):      \n",
    "        action = agent.get_action(state)\n",
    "        time_step = env.step(action)\n",
    "        reward, done = time_step.reward, time_step.last()\n",
    "        next_state = np.concatenate( [ time_step.observation[key] \n",
    "                                      for key in list( time_step.observation.keys() ) ] )\n",
    "        \n",
    "        # Learn, if enough samples are available in memory\n",
    "        if rb.get_stored_size() > BATCH_SIZE:\n",
    "            data = rb.sample(BATCH_SIZE)                \n",
    "            states = data['obs']; actions = data['act']; rewards = data['rew']\n",
    "            next_states = data['next_obs']; dones = data['done']\n",
    "            \n",
    "            actor_loss, critic_loss, _ = agent.train(states, \n",
    "                                                     actions, \n",
    "                                                     next_states, \n",
    "                                                     rewards, \n",
    "                                                     dones)\n",
    "            with summary_writer.as_default():\n",
    "                tf.summary.scalar(name=\"actor_loss\",\n",
    "                                  data=actor_loss,\n",
    "                                  step=t)\n",
    "                tf.summary.scalar(name=\"critic_loss\",\n",
    "                                  data=critic_loss,\n",
    "                                  step=t)\n",
    "        \n",
    "        # Save experience / reward\n",
    "        else:       \n",
    "            rb.add(obs=state, \n",
    "                   act=action, \n",
    "                   next_obs=next_state, \n",
    "                   rew=reward,\n",
    "                   done=done)\n",
    "            \n",
    "        state = next_state\n",
    "        score += reward\n",
    "\n",
    "        if done:\n",
    "            break\n",
    "    \n",
    "    with summary_writer.as_default():\n",
    "        tf.summary.scalar(name=\"EpRet\",\n",
    "                          data=score,\n",
    "                          step=i_episode)\n",
    "    \n",
    "    if i_episode % save_every == 0:\n",
    "        checkpoint.save(file_prefix = checkpoint_prefix)\n",
    "        \n",
    "checkpoint.save(file_prefix = checkpoint_prefix)"
   ]
  },
  {
   "cell_type": "markdown",
   "metadata": {},
   "source": [
    "### 4. Watch a Smart Agent!"
   ]
  },
  {
   "cell_type": "code",
   "execution_count": null,
   "metadata": {},
   "outputs": [],
   "source": [
    "import cv2\n",
    "import glob\n",
    "from PIL import Image\n",
    "import subprocess\n",
    "from packaging import version\n",
    "\n",
    "agent.actor_local.load_state_dict(torch.load('checkpoint_actor.pth'))\n",
    "agent.critic_local.load_state_dict(torch.load('checkpoint_critic.pth'))\n",
    "\n",
    "# reset frames folder\n",
    "subprocess.call([ 'rm', '-rf', 'frames'])\n",
    "subprocess.call([ 'mkdir', '-p', 'frames'])\n",
    "\n",
    "time_step = env.reset()\n",
    "state = np.concatenate([time_step.observation[key] for key in list(time_step.observation.keys())])\n",
    "\n",
    "agent.actor_local.eval()\n",
    "agent.critic_local.eval()\n",
    "\n",
    "with torch.no_grad():\n",
    "    for t in trange(0, 700):\n",
    "        action = agent.act(state)\n",
    "        time_step = env.step(action)\n",
    "\n",
    "        image_data = env.physics.render(height=480, width=480, camera_id=0)\n",
    "        img = Image.fromarray(image_data, 'RGB')\n",
    "        img.save(\"frames/frame-%.10d.png\" % t)\n",
    "\n",
    "        state = np.concatenate([time_step.observation[key] for key in list(time_step.observation.keys())])\n",
    "        clear_output(True)\n",
    "        if time_step.last():\n",
    "            break\n"
   ]
  },
  {
   "cell_type": "code",
   "execution_count": null,
   "metadata": {},
   "outputs": [],
   "source": [
    "# Convert frames to video\n",
    "img_array = []\n",
    "for filename in sorted(glob.glob('frames/*.png')):\n",
    "    img = cv2.imread(filename)\n",
    "    height, width, layers = img.shape\n",
    "    size = (width,height)\n",
    "    img_array.append(img)\n",
    "\n",
    "out = cv2.VideoWriter('project.mp4',cv2.VideoWriter_fourcc(*'DIVX'), 15, size)\n",
    "\n",
    "for i in range(len(img_array)):\n",
    "    out.write(img_array[i])\n",
    "out.release()"
   ]
  }
 ],
 "metadata": {
  "kernelspec": {
   "display_name": "Python 3",
   "language": "python",
   "name": "python3"
  },
  "language_info": {
   "codemirror_mode": {
    "name": "ipython",
    "version": 3
   },
   "file_extension": ".py",
   "mimetype": "text/x-python",
   "name": "python",
   "nbconvert_exporter": "python",
   "pygments_lexer": "ipython3",
   "version": "3.7.6"
  }
 },
 "nbformat": 4,
 "nbformat_minor": 4
}
