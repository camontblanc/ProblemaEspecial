{
 "cells": [
  {
   "cell_type": "markdown",
   "metadata": {},
   "source": [
    "# Deep Deterministic Policy Gradients (DDPG)\n",
    "---\n",
    "In this notebook, we train DDPG with DeepMind Control Suite's `Cartpole` domain in `swingup` task.\n",
    "\n",
    "### 1. Import the Necessary Packages"
   ]
  },
  {
   "cell_type": "code",
   "execution_count": 1,
   "metadata": {},
   "outputs": [],
   "source": [
    "from dm_control import suite\n",
    "\n",
    "import cv2\n",
    "import glob\n",
    "from PIL import Image\n",
    "import subprocess\n",
    "import numpy as np\n",
    "from collections import deque\n",
    "from tqdm import trange\n",
    "from IPython.display import clear_output\n",
    "import matplotlib.pyplot as plt\n",
    "\n",
    "from td3 import TD3\n",
    "import tensorflow as tf\n",
    "from cpprb import ReplayBuffer, PrioritizedReplayBuffer"
   ]
  },
  {
   "cell_type": "markdown",
   "metadata": {},
   "source": [
    "### 2. Instantiate the Environment and Agent"
   ]
  },
  {
   "cell_type": "code",
   "execution_count": 2,
   "metadata": {},
   "outputs": [
    {
     "name": "stdout",
     "output_type": "stream",
     "text": [
      "Running on  /CPU:0\n"
     ]
    }
   ],
   "source": [
    "BUFFER_SIZE = int(1e5)\n",
    "STATE_DIM = 5\n",
    "ACTION_DIM = 1\n",
    "BATCH_SIZE = 256\n",
    "\n",
    "env = suite.load(domain_name='cartpole', task_name='swingup')\n",
    "action_spec = env.action_spec()\n",
    "\n",
    "agent = TD3(STATE_DIM, ACTION_DIM, max_action=action_spec.maximum)\n",
    "print('Running on ', agent.device)\n",
    "\n",
    "rb = ReplayBuffer(BUFFER_SIZE, {\"obs\": {\"shape\": (STATE_DIM,)},\n",
    "                               \"act\": {\"shape\": ACTION_DIM},\n",
    "                               \"rew\": {},\n",
    "                               \"next_obs\": {\"shape\": (STATE_DIM,)},\n",
    "                               \"done\": {}})"
   ]
  },
  {
   "cell_type": "markdown",
   "metadata": {},
   "source": [
    "### 3. Train the Agent with DDPG"
   ]
  },
  {
   "cell_type": "code",
   "execution_count": 3,
   "metadata": {},
   "outputs": [
    {
     "name": "stdout",
     "output_type": "stream",
     "text": [
      "Episode 2\tAverage Score: 73.92\n"
     ]
    },
    {
     "data": {
      "image/png": "[encoded data removed]",
      "text/plain": [
       "<Figure size 432x288 with 1 Axes>"
      ]
     },
     "metadata": {
      "needs_background": "light"
     },
     "output_type": "display_data"
    },
    {
     "name": "stderr",
     "output_type": "stream",
     "text": [
      "100%|██████████| 3/3 [04:02<00:00, 80.88s/it]\n"
     ]
    }
   ],
   "source": [
    "n_episodes=3; max_t=1e3; print_every=2\n",
    "scores_deque = deque(maxlen=print_every)\n",
    "scores = []\n",
    "\n",
    "for i_episode in trange(1, int(n_episodes)+1):\n",
    "    \n",
    "    time_step = env.reset()\n",
    "    state = np.concatenate( [ time_step.observation[key] \n",
    "                             for key in list( time_step.observation.keys() ) ] ).T\n",
    "    score = 0\n",
    "    \n",
    "    for t in range(int(max_t)):\n",
    "        \n",
    "        action = agent.act(state)\n",
    "        time_step = env.step(action)\n",
    "        reward, done = time_step.reward, time_step.last()\n",
    "        next_state = np.concatenate( [ time_step.observation[key] \n",
    "                                      for key in list( time_step.observation.keys() ) ] ).T\n",
    "        \n",
    "        # Learn, if enough samples are available in memory\n",
    "        if rb.get_stored_size() > BATCH_SIZE:\n",
    "            \n",
    "            data = rb.sample(BATCH_SIZE)\n",
    "            for k in data.keys():\n",
    "                data[k] = data[k].astype('float64')\n",
    "                \n",
    "            states = data['obs']; actions = data['act']; rewards = data['rew']\n",
    "            next_states = data['next_obs']; dones = data['done']\n",
    "            \n",
    "            agent.train_body(states, actions, next_states, rewards, dones)\n",
    "        \n",
    "        # Save experience / reward\n",
    "        else:\n",
    "            \n",
    "            rb.add(obs=state, \n",
    "                   act=action, \n",
    "                   next_obs=next_state, \n",
    "                   rew=reward,\n",
    "                   done=done)\n",
    "            \n",
    "        state = next_state\n",
    "        score += reward\n",
    "\n",
    "        if done:\n",
    "            break\n",
    "\n",
    "    scores_deque.append(score)\n",
    "    scores.append(score)\n",
    "\n",
    "    if i_episode % print_every == 0:\n",
    "        \n",
    "        tf.saved_model.save(agent.pi,'checkpoint_critic')\n",
    "        tf.saved_model.save(agent.pi,'checkpoint_actor')\n",
    "\n",
    "        clear_output(True)\n",
    "        print('\\rEpisode {}\\tAverage Score: {:.2f}'.format(i_episode, np.mean(scores_deque)))\n",
    "\n",
    "        fig = plt.figure()\n",
    "        ax = fig.add_subplot(111)\n",
    "        plt.plot(scores)\n",
    "        plt.ylabel('Score')\n",
    "        plt.xlabel('Episode #')\n",
    "\n",
    "        plt.show()\n"
   ]
  },
  {
   "cell_type": "markdown",
   "metadata": {},
   "source": [
    "### 4. Watch a Smart Agent!"
   ]
  },
  {
   "cell_type": "code",
   "execution_count": null,
   "metadata": {},
   "outputs": [
    {
     "name": "stderr",
     "output_type": "stream",
     "text": [
      "\n",
      "  2%|▏         | 15/700 [00:42<29:15,  2.56s/it]\u001b[A"
     ]
    }
   ],
   "source": [
    "agent.actor_local.load_state_dict(torch.load('checkpoint_actor.pth'))\n",
    "agent.critic_local.load_state_dict(torch.load('checkpoint_critic.pth'))\n",
    "\n",
    "# reset frames folder\n",
    "subprocess.call([ 'rm', '-rf', 'frames'])\n",
    "subprocess.call([ 'mkdir', '-p', 'frames'])\n",
    "\n",
    "time_step = env.reset()\n",
    "state = np.concatenate([time_step.observation[key] for key in list(time_step.observation.keys())])\n",
    "\n",
    "agent.actor_local.eval()\n",
    "agent.critic_local.eval()\n",
    "\n",
    "with torch.no_grad():\n",
    "    for t in trange(0, 700):\n",
    "        action = agent.act(state)\n",
    "        time_step = env.step(action)\n",
    "\n",
    "        image_data = env.physics.render(height=480, width=480, camera_id=0)\n",
    "        img = Image.fromarray(image_data, 'RGB')\n",
    "        img.save(\"frames/frame-%.10d.png\" % t)\n",
    "\n",
    "        state = np.concatenate([time_step.observation[key] for key in list(time_step.observation.keys())])\n",
    "        clear_output(True)\n",
    "        if time_step.last():\n",
    "            break\n"
   ]
  },
  {
   "cell_type": "code",
   "execution_count": 10,
   "metadata": {},
   "outputs": [],
   "source": [
    "# Convert frames to video\n",
    "img_array = []\n",
    "for filename in sorted(glob.glob('frames/*.png')):\n",
    "    img = cv2.imread(filename)\n",
    "    height, width, layers = img.shape\n",
    "    size = (width,height)\n",
    "    img_array.append(img)\n",
    "\n",
    "out = cv2.VideoWriter('project.mp4',cv2.VideoWriter_fourcc(*'DIVX'), 15, size)\n",
    "\n",
    "for i in range(len(img_array)):\n",
    "    out.write(img_array[i])\n",
    "out.release()"
   ]
  },
  {
   "cell_type": "code",
   "execution_count": null,
   "metadata": {},
   "outputs": [],
   "source": []
  }
 ],
 "metadata": {
  "kernelspec": {
   "display_name": "Python 3",
   "language": "python",
   "name": "python3"
  },
  "language_info": {
   "codemirror_mode": {
    "name": "ipython",
    "version": 3
   },
   "file_extension": ".py",
   "mimetype": "text/x-python",
   "name": "python",
   "nbconvert_exporter": "python",
   "pygments_lexer": "ipython3",
   "version": "3.7.6"
  }
 },
 "nbformat": 4,
 "nbformat_minor": 4
}
