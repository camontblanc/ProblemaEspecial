{
 "cells": [
  {
   "cell_type": "markdown",
   "metadata": {},
   "source": [
    "# Deep Deterministic Policy Gradients (DDPG)\n",
    "---\n",
    "In this notebook, we train DDPG with DeepMind Control Suite's `Cartpole` domain in `two_poles` task.\n",
    "\n",
    "### 1. Import the Necessary Packages"
   ]
  },
  {
   "cell_type": "code",
   "execution_count": 1,
   "metadata": {},
   "outputs": [],
   "source": [
    "from dm_control import suite\n",
    "import cv2\n",
    "import glob\n",
    "from PIL import Image\n",
    "import subprocess\n",
    "import numpy as np\n",
    "from collections import deque\n",
    "from tqdm import trange\n",
    "from IPython.display import clear_output\n",
    "import matplotlib.pyplot as plt\n",
    "\n",
    "from ddpg_agent import Agent\n",
    "import torch"
   ]
  },
  {
   "cell_type": "markdown",
   "metadata": {},
   "source": [
    "### 2. Instantiate the Environment and Agent"
   ]
  },
  {
   "cell_type": "code",
   "execution_count": 2,
   "metadata": {},
   "outputs": [],
   "source": [
    "env = suite.load(domain_name='cartpole', task_name='swingup')\n",
    "\n",
    "state_size = 0\n",
    "for key in list(env.observation_spec().keys()):\n",
    "     state_size += env.observation_spec()[key].shape[0]\n",
    "action_spec = env.action_spec()\n",
    "\n",
    "# Prioritized memory bool\n",
    "PER = False\n",
    "# discount factor\n",
    "GAMMA = 0.99\n",
    "\n",
    "agent = Agent(state_size=state_size, action_size=action_spec.shape[0], random_seed=10, prioritized=PER)"
   ]
  },
  {
   "cell_type": "markdown",
   "metadata": {},
   "source": [
    "### 3. Train the Agent with DDPG"
   ]
  },
  {
   "cell_type": "code",
   "execution_count": null,
   "metadata": {},
   "outputs": [],
   "source": [
    "n_episodes=1e4; max_t=1e3; print_every=100\n",
    "scores_deque = deque(maxlen=print_every)\n",
    "scores = []\n",
    "\n",
    "for i_episode in trange(1, int(n_episodes)+1):\n",
    "    time_step = env.reset()\n",
    "    state = np.concatenate([time_step.observation[key] for key in list(time_step.observation.keys())])\n",
    "    agent.reset()\n",
    "    score = 0\n",
    "    for t in range(int(max_t)):\n",
    "        action = agent.act(state)\n",
    "        time_step = env.step(action)\n",
    "        reward, done = time_step.reward, time_step.last()\n",
    "        next_state = np.concatenate([time_step.observation[key] for key in list(time_step.observation.keys())])\n",
    "\n",
    "        if agent.per:\n",
    "            # Convert current action to torch.Tensor\n",
    "            a = torch.from_numpy(action).float().to(agent.device).view(1,-1)\n",
    "            # Convert state to torch.Tensor\n",
    "            s = torch.from_numpy(state).float().to(agent.device).view(1,-1)\n",
    "            # Convert next_state to torch.Tensor\n",
    "            next_s = torch.from_numpy(next_state).float().to(agent.device).view(1,-1)\n",
    "\n",
    "            # Get predicted next-state actions and Q values from target models\n",
    "            next_a = agent.actor_target(next_s).view(1,-1)\n",
    "            Q_target = agent.critic_target(next_s, next_a).cpu().data.numpy()\n",
    "            # Get predicted current state-action Q value from local model\n",
    "            Q_expected = agent.critic_local(s, a).cpu().data.numpy()\n",
    "\n",
    "            agent.TD_error = np.abs(reward + GAMMA*Q_target - Q_expected).item()\n",
    "\n",
    "        agent.step(state, action, reward, next_state, done)\n",
    "\n",
    "        state = next_state\n",
    "        score += reward\n",
    "\n",
    "        if done:\n",
    "            break\n",
    "\n",
    "    scores_deque.append(score)\n",
    "    scores.append(score)\n",
    "    # print('\\rEpisode {}\\tAverage Score: {:.2f}'.format(i_episode, np.mean(scores_deque)), end=\"\")\n",
    "\n",
    "    if i_episode % print_every == 0:\n",
    "        torch.save(agent.actor_local.state_dict(), 'checkpoint_actor.pth')\n",
    "        torch.save(agent.critic_local.state_dict(), 'checkpoint_critic.pth')\n",
    "\n",
    "        clear_output(True)\n",
    "        print('\\rEpisode {}\\tAverage Score: {:.2f}'.format(i_episode, np.mean(scores_deque)))\n",
    "\n",
    "        fig = plt.figure()\n",
    "        ax = fig.add_subplot(111)\n",
    "        plt.plot(scores)\n",
    "        plt.ylabel('Score')\n",
    "        plt.xlabel('Episode #')\n",
    "\n",
    "        plt.show()\n"
   ]
  },
  {
   "cell_type": "markdown",
   "metadata": {},
   "source": [
    "### 4. Watch a Smart Agent!"
   ]
  },
  {
   "cell_type": "code",
   "execution_count": null,
   "metadata": {},
   "outputs": [
    {
     "name": "stderr",
     "output_type": "stream",
     "text": [
      "\n",
      "  2%|▏         | 15/700 [00:42<29:15,  2.56s/it]\u001b[A"
     ]
    }
   ],
   "source": [
    "agent.actor_local.load_state_dict(torch.load('checkpoint_actor.pth'))\n",
    "agent.critic_local.load_state_dict(torch.load('checkpoint_critic.pth'))\n",
    "\n",
    "# reset frames folder\n",
    "subprocess.call([ 'rm', '-rf', 'frames'])\n",
    "subprocess.call([ 'mkdir', '-p', 'frames'])\n",
    "\n",
    "time_step = env.reset()\n",
    "state = np.concatenate([time_step.observation[key] for key in list(time_step.observation.keys())])\n",
    "\n",
    "agent.actor_local.eval()\n",
    "agent.critic_local.eval()\n",
    "\n",
    "with torch.no_grad():\n",
    "    for t in trange(0, 700):\n",
    "        action = agent.act(state)\n",
    "        time_step = env.step(action)\n",
    "\n",
    "        image_data = env.physics.render(height=480, width=480, camera_id=0)\n",
    "        img = Image.fromarray(image_data, 'RGB')\n",
    "        img.save(\"frames/frame-%.10d.png\" % t)\n",
    "\n",
    "        state = np.concatenate([time_step.observation[key] for key in list(time_step.observation.keys())])\n",
    "        clear_output(True)\n",
    "        if time_step.last():\n",
    "            break\n"
   ]
  },
  {
   "cell_type": "code",
   "execution_count": 10,
   "metadata": {},
   "outputs": [],
   "source": [
    "# Convert frames to video\n",
    "img_array = []\n",
    "for filename in sorted(glob.glob('frames/*.png')):\n",
    "    img = cv2.imread(filename)\n",
    "    height, width, layers = img.shape\n",
    "    size = (width,height)\n",
    "    img_array.append(img)\n",
    "\n",
    "out = cv2.VideoWriter('project.mp4',cv2.VideoWriter_fourcc(*'DIVX'), 15, size)\n",
    "\n",
    "for i in range(len(img_array)):\n",
    "    out.write(img_array[i])\n",
    "out.release()"
   ]
  },
  {
   "cell_type": "code",
   "execution_count": null,
   "metadata": {},
   "outputs": [],
   "source": []
  }
 ],
 "metadata": {
  "kernelspec": {
   "display_name": "Python 3",
   "language": "python",
   "name": "python3"
  },
  "language_info": {
   "codemirror_mode": {
    "name": "ipython",
    "version": 3
   },
   "file_extension": ".py",
   "mimetype": "text/x-python",
   "name": "python",
   "nbconvert_exporter": "python",
   "pygments_lexer": "ipython3",
   "version": "3.7.6"
  }
 },
 "nbformat": 4,
 "nbformat_minor": 4
}
